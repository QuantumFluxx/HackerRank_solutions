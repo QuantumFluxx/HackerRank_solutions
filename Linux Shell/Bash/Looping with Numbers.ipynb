{
 "cells": [
  {
   "cell_type": "markdown",
   "id": "e046e2da",
   "metadata": {},
   "source": [
    "## Solution:\n",
    "```bash\n",
    "for i in {1..50}\n",
    "do\n",
    "    echo $i\n",
    "done\n",
    "```"
   ]
  }
 ],
 "metadata": {
  "kernelspec": {
   "display_name": "Python 3 (ipykernel)",
   "language": "python",
   "name": "python3"
  },
  "language_info": {
   "codemirror_mode": {
    "name": "ipython",
    "version": 3
   },
   "file_extension": ".py",
   "mimetype": "text/x-python",
   "name": "python",
   "nbconvert_exporter": "python",
   "pygments_lexer": "ipython3",
   "version": "3.9.12"
  }
 },
 "nbformat": 4,
 "nbformat_minor": 5
}
