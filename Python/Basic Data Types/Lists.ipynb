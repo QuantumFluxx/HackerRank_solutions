{
 "cells": [
  {
   "cell_type": "markdown",
   "id": "7f262f75",
   "metadata": {},
   "source": [
    "## Solution:\n",
    "```python\n",
    "def handler(result):\n",
    "    inp = input().split()\n",
    "    command = inp[0]\n",
    "    values = inp[1:]\n",
    "    if command == 'print':\n",
    "        print(result)\n",
    "    else:\n",
    "        execute = 'result.' + command + \"(\" + \",\".join(values) + \")\"\n",
    "        eval(execute)\n",
    "\n",
    "\n",
    "result = []\n",
    "for i in range(int(input())):\n",
    "    handler(result)\n",
    "```"
   ]
  }
 ],
 "metadata": {
  "kernelspec": {
   "display_name": "Python 3 (ipykernel)",
   "language": "python",
   "name": "python3"
  },
  "language_info": {
   "codemirror_mode": {
    "name": "ipython",
    "version": 3
   },
   "file_extension": ".py",
   "mimetype": "text/x-python",
   "name": "python",
   "nbconvert_exporter": "python",
   "pygments_lexer": "ipython3",
   "version": "3.9.12"
  }
 },
 "nbformat": 4,
 "nbformat_minor": 5
}
