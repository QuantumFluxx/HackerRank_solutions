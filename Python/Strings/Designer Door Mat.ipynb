{
 "cells": [
  {
   "cell_type": "markdown",
   "id": "eb95d4cc",
   "metadata": {},
   "source": [
    "## Solution:\n",
    "```python\n",
    "height, length = map(int, input().split())\n",
    "for i in range(0, height // 2):\n",
    "    s = '.|.' * (i * 2 + 1)\n",
    "    print(s.center(length,'-'))\n",
    "print('WELCOME'.center(length, '-'))\n",
    "for i in range(height // 2 - 1, -1, -1):\n",
    "    s = '.|.' * (i * 2 + 1)\n",
    "    print(s.center(length,'-'))\n",
    "```"
   ]
  },
  {
   "cell_type": "code",
   "execution_count": 2,
   "id": "41249ebf",
   "metadata": {},
   "outputs": [
    {
     "name": "stdout",
     "output_type": "stream",
     "text": [
      "7 21\n",
      "---------.|.---------\n",
      "------.|..|..|.------\n",
      "---.|..|..|..|..|.---\n",
      "-------WELCOME-------\n",
      "---.|..|..|..|..|.---\n",
      "------.|..|..|.------\n",
      "---------.|.---------\n"
     ]
    }
   ],
   "source": [
    "height, length = map(int, input().split())\n",
    "for i in range(0, height // 2):\n",
    "    s = '.|.' * (i * 2 + 1)\n",
    "    print(s.center(length,'-'))\n",
    "print('WELCOME'.center(length, '-'))\n",
    "for i in range(height // 2 - 1, -1, -1):\n",
    "    s = '.|.' * (i * 2 + 1)\n",
    "    print(s.center(length,'-'))"
   ]
  }
 ],
 "metadata": {
  "kernelspec": {
   "display_name": "Python 3 (ipykernel)",
   "language": "python",
   "name": "python3"
  },
  "language_info": {
   "codemirror_mode": {
    "name": "ipython",
    "version": 3
   },
   "file_extension": ".py",
   "mimetype": "text/x-python",
   "name": "python",
   "nbconvert_exporter": "python",
   "pygments_lexer": "ipython3",
   "version": "3.9.12"
  }
 },
 "nbformat": 4,
 "nbformat_minor": 5
}
