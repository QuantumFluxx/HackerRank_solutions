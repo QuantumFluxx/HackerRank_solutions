{
 "cells": [
  {
   "cell_type": "markdown",
   "id": "00e73ea0",
   "metadata": {},
   "source": [
    "## Here is a sample line of code that can be executed in Python:\n",
    "\n",
    "print(\"Hello, World!\")\n",
    "\n",
    "You can just as easily store a string as a variable and then print it to stdout:\n",
    "\n",
    "my_string = \"Hello, World!\"\n",
    "print(my_string)\n",
    "The above code will print Hello, World! on your screen. Try it yourself in the editor below!\n",
    "\n",
    "### Input Format\n",
    "\n",
    "You do not need to read any input in this challenge.\n",
    "\n",
    "### Output Format\n",
    "\n",
    "Print Hello, World! to stdout.\n",
    "\n",
    "### Sample Output 0\n",
    "\n",
    "Hello, World!\n",
    "\n",
    "## Solution:\n",
    "```python\n",
    "if __name__ == '__main__':\n",
    "    print \"Hello, World!\"\n",
    "```"
   ]
  }
 ],
 "metadata": {
  "kernelspec": {
   "display_name": "Python 3 (ipykernel)",
   "language": "python",
   "name": "python3"
  },
  "language_info": {
   "codemirror_mode": {
    "name": "ipython",
    "version": 3
   },
   "file_extension": ".py",
   "mimetype": "text/x-python",
   "name": "python",
   "nbconvert_exporter": "python",
   "pygments_lexer": "ipython3",
   "version": "3.9.12"
  }
 },
 "nbformat": 4,
 "nbformat_minor": 5
}
